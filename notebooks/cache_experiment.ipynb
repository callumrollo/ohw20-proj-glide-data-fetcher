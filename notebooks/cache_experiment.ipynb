{
 "cells": [
  {
   "cell_type": "markdown",
   "metadata": {},
   "source": [
    "## Example 0.5 Get variables for dataset and store in dictionary"
   ]
  },
  {
   "cell_type": "code",
   "execution_count": null,
   "metadata": {},
   "outputs": [],
   "source": [
    "from erddapy import ERDDAP\n",
    "\n",
    "e = ERDDAP(\n",
    "    server=\"https://gliders.ioos.us/erddap\",\n",
    "    protocol=\"tabledap\"\n",
    ")"
   ]
  },
  {
   "cell_type": "code",
   "execution_count": null,
   "metadata": {},
   "outputs": [],
   "source": [
    "import functools\n",
    "import pandas as pd\n",
    "from erddapy.utilities import urlopen\n",
    "\n",
    "\n",
    "class Dataset(ERDDAP):\n",
    "    def __init__(self, server, dataset_id):\n",
    "        super().__init__(server) \n",
    "        self.dataset_id = dataset_id\n",
    "\n",
    "    @functools.lru_cache(maxsize=None)\n",
    "    def dataset_attr(self):\n",
    "        url = self.get_info_url(\n",
    "            dataset_id=self.dataset_id,\n",
    "            response=\"csv\",\n",
    "        )\n",
    "        df = pd.read_csv(url)\n",
    "        # The csv info url has two groups: variable and attribute.\n",
    "        groups = df.groupby(\"Row Type\")\n",
    "        vs = groups.get_group(\"variable\").dropna(how=\"all\", axis=1)\n",
    "        variables = {k: f\"{dtype}\" for k, dtype in zip(vs[\"Variable Name\"], vs[\"Data Type\"])}\n",
    "\n",
    "        attributes = {}\n",
    "        attrs = groups.get_group(\"attribute\").dropna(how=\"all\", axis=1).groupby(\"Variable Name\")\n",
    "        for attr, df in attrs:\n",
    "            attributes.update(\n",
    "                {attr: {k: f\"{dtype}: {val}\" for k, dtype, val in zip(df[\"Attribute Name\"], df[\"Data Type\"], df[\"Value\"])}}\n",
    "            )\n",
    "        return variables, attributes\n",
    "    \n",
    "    @property\n",
    "    def attributes(self):\n",
    "        return self.dataset_attr()[1]\n",
    "\n",
    "    @property\n",
    "    def data_variables(self):\n",
    "        return self.dataset_attr()[0]"
   ]
  },
  {
   "cell_type": "code",
   "execution_count": null,
   "metadata": {},
   "outputs": [],
   "source": [
    "%%time\n",
    "ds = Dataset(e.server, dataset_id=\"whoi_406-20160902T1700\")\n",
    "#ds.attributes\n",
    "ds.data_variables"
   ]
  },
  {
   "cell_type": "code",
   "execution_count": null,
   "metadata": {},
   "outputs": [],
   "source": [
    "%%time\n",
    "ds = Dataset(e.server, dataset_id=\"whoi_406-20160902T1700\")\n",
    "#ds.attributes\n",
    "ds.data_variables"
   ]
  },
  {
   "cell_type": "code",
   "execution_count": null,
   "metadata": {},
   "outputs": [],
   "source": [
    "%%time\n",
    "ds = Dataset(e.server, dataset_id=\"whoi_406-20160902T1700\")\n",
    "ds.attributes\n",
    "#ds.data_variables"
   ]
  },
  {
   "cell_type": "code",
   "execution_count": null,
   "metadata": {},
   "outputs": [],
   "source": [
    "%%time\n",
    "ds = Dataset(e.server, dataset_id=\"whoi_406-20160902T1700\")\n",
    "ds.attributes\n",
    "#ds.data_variables"
   ]
  }
 ],
 "metadata": {
  "kernelspec": {
   "display_name": "Python 3",
   "language": "python",
   "name": "python3"
  },
  "language_info": {
   "codemirror_mode": {
    "name": "ipython",
    "version": 3
   },
   "file_extension": ".py",
   "mimetype": "text/x-python",
   "name": "python",
   "nbconvert_exporter": "python",
   "pygments_lexer": "ipython3",
   "version": "3.8.5"
  }
 },
 "nbformat": 4,
 "nbformat_minor": 4
}
